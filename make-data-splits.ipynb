{
 "cells": [
  {
   "cell_type": "markdown",
   "id": "cc9a0f94",
   "metadata": {},
   "source": [
    "# Make data splits"
   ]
  },
  {
   "cell_type": "code",
   "execution_count": null,
   "id": "71224ddd",
   "metadata": {},
   "outputs": [],
   "source": [
    "from pathlib import Path\n",
    "\n",
    "RANDOM_STATE=42\n",
    "\n",
    "# IndicSUPERB directory\n",
    "isb_dir = Path(\"/workspace/data/IndicSUPERB/\")"
   ]
  },
  {
   "cell_type": "markdown",
   "id": "dfc6c5f4",
   "metadata": {},
   "source": [
    "## Punjabi data (target language)"
   ]
  },
  {
   "cell_type": "code",
   "execution_count": 2,
   "id": "0dd2fcfb",
   "metadata": {},
   "outputs": [
    {
     "name": "stderr",
     "output_type": "stream",
     "text": [
      "/opt/conda/lib/python3.8/site-packages/tqdm/auto.py:22: TqdmWarning: IProgress not found. Please update jupyter and ipywidgets. See https://ipywidgets.readthedocs.io/en/stable/user_install.html\n",
      "  from .autonotebook import tqdm as notebook_tqdm\n"
     ]
    },
    {
     "data": {
      "text/html": [
       "<div>\n",
       "<style scoped>\n",
       "    .dataframe tbody tr th:only-of-type {\n",
       "        vertical-align: middle;\n",
       "    }\n",
       "\n",
       "    .dataframe tbody tr th {\n",
       "        vertical-align: top;\n",
       "    }\n",
       "\n",
       "    .dataframe thead th {\n",
       "        text-align: right;\n",
       "    }\n",
       "</style>\n",
       "<table border=\"1\" class=\"dataframe\">\n",
       "  <thead>\n",
       "    <tr style=\"text-align: right;\">\n",
       "      <th></th>\n",
       "      <th>path</th>\n",
       "      <th>num_frames</th>\n",
       "    </tr>\n",
       "  </thead>\n",
       "  <tbody>\n",
       "    <tr>\n",
       "      <th>68813</th>\n",
       "      <td>844424933070449-1194-f.wav</td>\n",
       "      <td>140063</td>\n",
       "    </tr>\n",
       "    <tr>\n",
       "      <th>59674</th>\n",
       "      <td>844424932868816-775-f.wav</td>\n",
       "      <td>75790</td>\n",
       "    </tr>\n",
       "    <tr>\n",
       "      <th>83342</th>\n",
       "      <td>844424933635741-1199-m.wav</td>\n",
       "      <td>82106</td>\n",
       "    </tr>\n",
       "    <tr>\n",
       "      <th>27670</th>\n",
       "      <td>844424931382953-270-f.wav</td>\n",
       "      <td>100682</td>\n",
       "    </tr>\n",
       "    <tr>\n",
       "      <th>72831</th>\n",
       "      <td>844424933136076-196-f.wav</td>\n",
       "      <td>57957</td>\n",
       "    </tr>\n",
       "    <tr>\n",
       "      <th>...</th>\n",
       "      <td>...</td>\n",
       "      <td>...</td>\n",
       "    </tr>\n",
       "    <tr>\n",
       "      <th>6265</th>\n",
       "      <td>844424930708146-101-f.wav</td>\n",
       "      <td>116286</td>\n",
       "    </tr>\n",
       "    <tr>\n",
       "      <th>54886</th>\n",
       "      <td>844424932732343-496-f.wav</td>\n",
       "      <td>72818</td>\n",
       "    </tr>\n",
       "    <tr>\n",
       "      <th>76820</th>\n",
       "      <td>844424933153156-180-f.wav</td>\n",
       "      <td>88793</td>\n",
       "    </tr>\n",
       "    <tr>\n",
       "      <th>860</th>\n",
       "      <td>844424930469993-1158-f.wav</td>\n",
       "      <td>86936</td>\n",
       "    </tr>\n",
       "    <tr>\n",
       "      <th>15795</th>\n",
       "      <td>844424931044040-812-f.wav</td>\n",
       "      <td>73189</td>\n",
       "    </tr>\n",
       "  </tbody>\n",
       "</table>\n",
       "<p>86848 rows × 2 columns</p>\n",
       "</div>"
      ],
      "text/plain": [
       "                             path  num_frames\n",
       "68813  844424933070449-1194-f.wav      140063\n",
       "59674   844424932868816-775-f.wav       75790\n",
       "83342  844424933635741-1199-m.wav       82106\n",
       "27670   844424931382953-270-f.wav      100682\n",
       "72831   844424933136076-196-f.wav       57957\n",
       "...                           ...         ...\n",
       "6265    844424930708146-101-f.wav      116286\n",
       "54886   844424932732343-496-f.wav       72818\n",
       "76820   844424933153156-180-f.wav       88793\n",
       "860    844424930469993-1158-f.wav       86936\n",
       "15795   844424931044040-812-f.wav       73189\n",
       "\n",
       "[86848 rows x 2 columns]"
      ]
     },
     "execution_count": 2,
     "metadata": {},
     "output_type": "execute_result"
    }
   ],
   "source": [
    "import torchaudio\n",
    "import pandas as pd\n",
    "\n",
    "pa_dir = isb_dir / \"punjabi\"\n",
    "\n",
    "pa_audio_df = pd.DataFrame({\n",
    "    'path' : sorted(pa_dir.glob(\"audio/*.wav\"))\n",
    "}).sample(frac=1.0, random_state=RANDOM_STATE)\n",
    "\n",
    "pa_audio_df['num_frames'] = pa_audio_df.path.apply(lambda p: torchaudio.info(p).num_frames)\n",
    "\n",
    "pa_audio_df['path'] = pa_audio_df['path'].apply(lambda p: str(p.name))\n",
    "\n",
    "pa_audio_df"
   ]
  },
  {
   "cell_type": "code",
   "execution_count": 3,
   "id": "c5a943b1",
   "metadata": {},
   "outputs": [],
   "source": [
    "pa_selected_indices = set()"
   ]
  },
  {
   "cell_type": "markdown",
   "id": "e921c07d",
   "metadata": {},
   "source": [
    "### Select 2 hour test set"
   ]
  },
  {
   "cell_type": "code",
   "execution_count": 4,
   "id": "4aa31d40",
   "metadata": {},
   "outputs": [],
   "source": [
    "pa_test_2h = pa_audio_df.query(\"num_frames.cumsum() <= (16_000 * 60 * 60 * 2)\")\n",
    "\n",
    "pa_selected_indices = pa_selected_indices.union(set(pa_test_2h.index))"
   ]
  },
  {
   "cell_type": "code",
   "execution_count": 5,
   "id": "0ce08433",
   "metadata": {},
   "outputs": [
    {
     "data": {
      "text/html": [
       "<div>\n",
       "<style scoped>\n",
       "    .dataframe tbody tr th:only-of-type {\n",
       "        vertical-align: middle;\n",
       "    }\n",
       "\n",
       "    .dataframe tbody tr th {\n",
       "        vertical-align: top;\n",
       "    }\n",
       "\n",
       "    .dataframe thead th {\n",
       "        text-align: right;\n",
       "    }\n",
       "</style>\n",
       "<table border=\"1\" class=\"dataframe\">\n",
       "  <thead>\n",
       "    <tr style=\"text-align: right;\">\n",
       "      <th></th>\n",
       "      <th>path</th>\n",
       "      <th>num_frames</th>\n",
       "    </tr>\n",
       "  </thead>\n",
       "  <tbody>\n",
       "    <tr>\n",
       "      <th>68813</th>\n",
       "      <td>844424933070449-1194-f.wav</td>\n",
       "      <td>140063</td>\n",
       "    </tr>\n",
       "    <tr>\n",
       "      <th>59674</th>\n",
       "      <td>844424932868816-775-f.wav</td>\n",
       "      <td>75790</td>\n",
       "    </tr>\n",
       "    <tr>\n",
       "      <th>83342</th>\n",
       "      <td>844424933635741-1199-m.wav</td>\n",
       "      <td>82106</td>\n",
       "    </tr>\n",
       "    <tr>\n",
       "      <th>27670</th>\n",
       "      <td>844424931382953-270-f.wav</td>\n",
       "      <td>100682</td>\n",
       "    </tr>\n",
       "    <tr>\n",
       "      <th>72831</th>\n",
       "      <td>844424933136076-196-f.wav</td>\n",
       "      <td>57957</td>\n",
       "    </tr>\n",
       "    <tr>\n",
       "      <th>...</th>\n",
       "      <td>...</td>\n",
       "      <td>...</td>\n",
       "    </tr>\n",
       "    <tr>\n",
       "      <th>84119</th>\n",
       "      <td>844424933638938-886-m.wav</td>\n",
       "      <td>67617</td>\n",
       "    </tr>\n",
       "    <tr>\n",
       "      <th>41725</th>\n",
       "      <td>844424931566967-594-f.wav</td>\n",
       "      <td>75419</td>\n",
       "    </tr>\n",
       "    <tr>\n",
       "      <th>33070</th>\n",
       "      <td>844424931450718-1031-f.wav</td>\n",
       "      <td>60558</td>\n",
       "    </tr>\n",
       "    <tr>\n",
       "      <th>14623</th>\n",
       "      <td>844424930998225-389-m.wav</td>\n",
       "      <td>66874</td>\n",
       "    </tr>\n",
       "    <tr>\n",
       "      <th>37480</th>\n",
       "      <td>844424931523666-1039-f.wav</td>\n",
       "      <td>88050</td>\n",
       "    </tr>\n",
       "  </tbody>\n",
       "</table>\n",
       "<p>1334 rows × 2 columns</p>\n",
       "</div>"
      ],
      "text/plain": [
       "                             path  num_frames\n",
       "68813  844424933070449-1194-f.wav      140063\n",
       "59674   844424932868816-775-f.wav       75790\n",
       "83342  844424933635741-1199-m.wav       82106\n",
       "27670   844424931382953-270-f.wav      100682\n",
       "72831   844424933136076-196-f.wav       57957\n",
       "...                           ...         ...\n",
       "84119   844424933638938-886-m.wav       67617\n",
       "41725   844424931566967-594-f.wav       75419\n",
       "33070  844424931450718-1031-f.wav       60558\n",
       "14623   844424930998225-389-m.wav       66874\n",
       "37480  844424931523666-1039-f.wav       88050\n",
       "\n",
       "[1334 rows x 2 columns]"
      ]
     },
     "execution_count": 5,
     "metadata": {},
     "output_type": "execute_result"
    }
   ],
   "source": [
    "pa_test_2h"
   ]
  },
  {
   "cell_type": "markdown",
   "id": "37dfac40",
   "metadata": {},
   "source": [
    "### Select 1 hour validation set"
   ]
  },
  {
   "cell_type": "code",
   "execution_count": 6,
   "id": "3bb73aa2",
   "metadata": {},
   "outputs": [],
   "source": [
    "pa_valid_1h = pa_audio_df[ ~pa_audio_df.index.isin(pa_selected_indices) ].query(\"num_frames.cumsum() <= (16_000 * 60 * 60 * 1)\")\n",
    "\n",
    "pa_selected_indices = pa_selected_indices.union(set(pa_valid_1h.index))"
   ]
  },
  {
   "cell_type": "code",
   "execution_count": 7,
   "id": "29cffb04",
   "metadata": {},
   "outputs": [
    {
     "data": {
      "text/html": [
       "<div>\n",
       "<style scoped>\n",
       "    .dataframe tbody tr th:only-of-type {\n",
       "        vertical-align: middle;\n",
       "    }\n",
       "\n",
       "    .dataframe tbody tr th {\n",
       "        vertical-align: top;\n",
       "    }\n",
       "\n",
       "    .dataframe thead th {\n",
       "        text-align: right;\n",
       "    }\n",
       "</style>\n",
       "<table border=\"1\" class=\"dataframe\">\n",
       "  <thead>\n",
       "    <tr style=\"text-align: right;\">\n",
       "      <th></th>\n",
       "      <th>path</th>\n",
       "      <th>num_frames</th>\n",
       "    </tr>\n",
       "  </thead>\n",
       "  <tbody>\n",
       "    <tr>\n",
       "      <th>17282</th>\n",
       "      <td>844424931120531-812-f.wav</td>\n",
       "      <td>98453</td>\n",
       "    </tr>\n",
       "    <tr>\n",
       "      <th>60501</th>\n",
       "      <td>844424932888217-850-f.wav</td>\n",
       "      <td>57586</td>\n",
       "    </tr>\n",
       "    <tr>\n",
       "      <th>56028</th>\n",
       "      <td>844424932784328-66-f.wav</td>\n",
       "      <td>114428</td>\n",
       "    </tr>\n",
       "    <tr>\n",
       "      <th>16249</th>\n",
       "      <td>844424931067342-812-f.wav</td>\n",
       "      <td>80991</td>\n",
       "    </tr>\n",
       "    <tr>\n",
       "      <th>36505</th>\n",
       "      <td>844424931505758-249-f.wav</td>\n",
       "      <td>104397</td>\n",
       "    </tr>\n",
       "    <tr>\n",
       "      <th>...</th>\n",
       "      <td>...</td>\n",
       "      <td>...</td>\n",
       "    </tr>\n",
       "    <tr>\n",
       "      <th>14882</th>\n",
       "      <td>844424931005405-1031-f.wav</td>\n",
       "      <td>81363</td>\n",
       "    </tr>\n",
       "    <tr>\n",
       "      <th>12689</th>\n",
       "      <td>844424930924365-930-f.wav</td>\n",
       "      <td>127431</td>\n",
       "    </tr>\n",
       "    <tr>\n",
       "      <th>59578</th>\n",
       "      <td>844424932867791-1200-f.wav</td>\n",
       "      <td>86936</td>\n",
       "    </tr>\n",
       "    <tr>\n",
       "      <th>1830</th>\n",
       "      <td>844424930566725-396-f.wav</td>\n",
       "      <td>93623</td>\n",
       "    </tr>\n",
       "    <tr>\n",
       "      <th>39425</th>\n",
       "      <td>844424931547151-704-f.wav</td>\n",
       "      <td>52384</td>\n",
       "    </tr>\n",
       "  </tbody>\n",
       "</table>\n",
       "<p>675 rows × 2 columns</p>\n",
       "</div>"
      ],
      "text/plain": [
       "                             path  num_frames\n",
       "17282   844424931120531-812-f.wav       98453\n",
       "60501   844424932888217-850-f.wav       57586\n",
       "56028    844424932784328-66-f.wav      114428\n",
       "16249   844424931067342-812-f.wav       80991\n",
       "36505   844424931505758-249-f.wav      104397\n",
       "...                           ...         ...\n",
       "14882  844424931005405-1031-f.wav       81363\n",
       "12689   844424930924365-930-f.wav      127431\n",
       "59578  844424932867791-1200-f.wav       86936\n",
       "1830    844424930566725-396-f.wav       93623\n",
       "39425   844424931547151-704-f.wav       52384\n",
       "\n",
       "[675 rows x 2 columns]"
      ]
     },
     "execution_count": 7,
     "metadata": {},
     "output_type": "execute_result"
    }
   ],
   "source": [
    "pa_valid_1h"
   ]
  },
  {
   "cell_type": "markdown",
   "id": "76586907",
   "metadata": {},
   "source": [
    "Expect `pa_selected_indices` to be sum of `test` and `valididation` data frame lengths"
   ]
  },
  {
   "cell_type": "code",
   "execution_count": 8,
   "id": "5d628552",
   "metadata": {},
   "outputs": [
    {
     "data": {
      "text/plain": [
       "True"
      ]
     },
     "execution_count": 8,
     "metadata": {},
     "output_type": "execute_result"
    }
   ],
   "source": [
    "len(pa_selected_indices) == len(pa_valid_1h) + len(pa_test_2h)"
   ]
  },
  {
   "cell_type": "markdown",
   "id": "ebe7ad66",
   "metadata": {},
   "source": [
    "Use remaining data not assigned to test or validation sets."
   ]
  },
  {
   "cell_type": "code",
   "execution_count": 9,
   "id": "a1b1b10a",
   "metadata": {},
   "outputs": [],
   "source": [
    "pa_not_selected = pa_audio_df[ ~pa_audio_df.index.isin(pa_selected_indices) ]"
   ]
  },
  {
   "cell_type": "markdown",
   "id": "bc35827b",
   "metadata": {},
   "source": [
    "### Select pre-training/fine-tuning subsets"
   ]
  },
  {
   "cell_type": "markdown",
   "id": "cb142b5b",
   "metadata": {},
   "source": [
    "#### Select pre-training sets"
   ]
  },
  {
   "cell_type": "code",
   "execution_count": 10,
   "id": "173dee56",
   "metadata": {},
   "outputs": [],
   "source": [
    "pa_pretrain_70h = pa_not_selected.query(\"num_frames.cumsum() <= (16_000 * 60 * 60 * 70)\")"
   ]
  },
  {
   "cell_type": "code",
   "execution_count": 11,
   "id": "f138ad87",
   "metadata": {},
   "outputs": [],
   "source": [
    "pa_pretrain_10h = pa_not_selected.query(\"num_frames.cumsum() <= (16_000 * 60 * 60 * 10)\")"
   ]
  },
  {
   "cell_type": "markdown",
   "id": "c819563b",
   "metadata": {},
   "source": [
    "#### Select 1h fine-tuning set"
   ]
  },
  {
   "cell_type": "code",
   "execution_count": 12,
   "id": "9cebac92",
   "metadata": {},
   "outputs": [],
   "source": [
    "pa_finetune_1h = pa_not_selected.query(\"num_frames.cumsum() <= (16_000 * 60 * 60 * 1)\")"
   ]
  },
  {
   "cell_type": "markdown",
   "id": "c5fe436e",
   "metadata": {},
   "source": [
    "### Write pretraining data to repo"
   ]
  },
  {
   "cell_type": "code",
   "execution_count": 13,
   "id": "d7ca8195",
   "metadata": {},
   "outputs": [],
   "source": [
    "data_out = Path(\"/workspace/data/manifests/pretrain/\")\n",
    "\n",
    "manifests_dict = {\n",
    "    'punjabi_train-70h': pa_pretrain_70h,\n",
    "    'punjabi_train-10h': pa_pretrain_10h,\n",
    "    'punjabi_valid-1h': pa_valid_1h\n",
    "}\n",
    "\n",
    "for (tsv_name, tsv_data) in manifests_dict.items():\n",
    "    manifest_tsv = data_out / (tsv_name + \".tsv\")\n",
    "    \n",
    "    with open(manifest_tsv, 'w') as f:\n",
    "        f.write(\"/workspace/data/IndicSUPERB/punjabi/audio\\n\")\n",
    "\n",
    "    tsv_data.to_csv(manifest_tsv, sep=\"\\t\", index=False, header=False, mode='a')"
   ]
  },
  {
   "cell_type": "markdown",
   "id": "6297e0ab",
   "metadata": {},
   "source": [
    "### Prepare fine-tuning data"
   ]
  },
  {
   "cell_type": "code",
   "execution_count": 14,
   "id": "18717d3f",
   "metadata": {},
   "outputs": [],
   "source": [
    "supervised_all = pd.concat([\n",
    "    pa_test_2h,\n",
    "    pa_valid_1h,\n",
    "    pa_finetune_1h\n",
    "])"
   ]
  },
  {
   "cell_type": "code",
   "execution_count": 15,
   "id": "917deaf5",
   "metadata": {},
   "outputs": [
    {
     "data": {
      "text/html": [
       "<div>\n",
       "<style scoped>\n",
       "    .dataframe tbody tr th:only-of-type {\n",
       "        vertical-align: middle;\n",
       "    }\n",
       "\n",
       "    .dataframe tbody tr th {\n",
       "        vertical-align: top;\n",
       "    }\n",
       "\n",
       "    .dataframe thead th {\n",
       "        text-align: right;\n",
       "    }\n",
       "</style>\n",
       "<table border=\"1\" class=\"dataframe\">\n",
       "  <thead>\n",
       "    <tr style=\"text-align: right;\">\n",
       "      <th></th>\n",
       "      <th>Unnamed: 0</th>\n",
       "      <th>file</th>\n",
       "      <th>transcript</th>\n",
       "    </tr>\n",
       "  </thead>\n",
       "  <tbody>\n",
       "    <tr>\n",
       "      <th>5</th>\n",
       "      <td>5126</td>\n",
       "      <td>844424933061065-1200-f.wav</td>\n",
       "      <td>ਮਾਪਿਆਂ|ਜਾਂ|ਦੇਖਭਾਲ|ਕਰਨ|ਵਾਲਿਆਂ|ਦੀ|ਰਿਪੋਰਟ|ਤਿਆਰ|ਕਰ...</td>\n",
       "    </tr>\n",
       "    <tr>\n",
       "      <th>43</th>\n",
       "      <td>5164</td>\n",
       "      <td>844424932719276-496-f.wav</td>\n",
       "      <td>ਧੱਬੇ|ਨੂੰ|ਹਟਾਉਣ|ਦੀ|ਗੁੰਝਲਤਾ|ਨੂੰ|ਉਹ|ਪ੍ਰਾਪਤ|ਕੀਤਾ|ਗ...</td>\n",
       "    </tr>\n",
       "    <tr>\n",
       "      <th>48</th>\n",
       "      <td>5169</td>\n",
       "      <td>844424933057478-704-f.wav</td>\n",
       "      <td>ਇਸ|ਮਾਮਲੇ|ਤੇ|ਪੁਲਿਸ|ਪੂਰੀ|ਕਾਰਵਾਈ|ਕਰ|ਰਹੀ|ਹੈ</td>\n",
       "    </tr>\n",
       "    <tr>\n",
       "      <th>84</th>\n",
       "      <td>5205</td>\n",
       "      <td>844424931500820-1200-f.wav</td>\n",
       "      <td>ਇਕ|ਕੁੜੀ|ਹੈ|ਜੋ|ਤਬਦੀਲ|ਨਾ|ਕਰੇਗਾ|ਦਾ|ਪਤਾ|ਕਰਨ|ਲਈ|ਕਰਨ...</td>\n",
       "    </tr>\n",
       "    <tr>\n",
       "      <th>141</th>\n",
       "      <td>5262</td>\n",
       "      <td>844424931282882-664-f.wav</td>\n",
       "      <td>ਇਹ|ਵਿਕਲਪਿਕ|ਚੀਜ਼|ਵੱਡੇ|ਪਰਿਵਾਰਾਂ|ਅਤੇ|ਸਮੂਹਾਂ|ਦੇ|ਲਈ...</td>\n",
       "    </tr>\n",
       "    <tr>\n",
       "      <th>...</th>\n",
       "      <td>...</td>\n",
       "      <td>...</td>\n",
       "      <td>...</td>\n",
       "    </tr>\n",
       "    <tr>\n",
       "      <th>86752</th>\n",
       "      <td>91873</td>\n",
       "      <td>844424933650549-601-m.wav</td>\n",
       "      <td>ਮੁਨਰੋ|ਇਸਦੇ|ਬੁਨਿਆਦ|ਰੱਖਣ|ਦੇ|ਸਮੇਂ|ਸੰਯੁਕਤ|ਰਾਜ|ਅਮਰੀ...</td>\n",
       "    </tr>\n",
       "    <tr>\n",
       "      <th>86755</th>\n",
       "      <td>91876</td>\n",
       "      <td>844424933610704-1-m.wav</td>\n",
       "      <td>ਨਿਊਜ਼|ਚੈਨਲ|ਨੇ|ਨਵੇਂ|ਟਰਾਂਸਜੈਂਡਰ|ਐਂਕਰਾਂ|ਨੂੰ|ਕੰਮ|ਲ...</td>\n",
       "    </tr>\n",
       "    <tr>\n",
       "      <th>86758</th>\n",
       "      <td>91879</td>\n",
       "      <td>844424933633726-601-m.wav</td>\n",
       "      <td>ਭਾਵੇਂ|ਉਸ|ਲੋੜ|ਦੀ|ਹੋਂਦ|ਹੋਵੇ|ਜਾਂ|ਨਾ|ਹੋਵੇ</td>\n",
       "    </tr>\n",
       "    <tr>\n",
       "      <th>86772</th>\n",
       "      <td>91893</td>\n",
       "      <td>844424933647743-601-m.wav</td>\n",
       "      <td>ਲੋਕਧਾਰਾ|ਅਧਿਐਨ|ਦੀਆਂ|ਨਵੀਆਂ|ਤਕਨੀਕਾਂ|ਪ੍ਰਾਪਤੀਆਂ|ਤੇ|...</td>\n",
       "    </tr>\n",
       "    <tr>\n",
       "      <th>86773</th>\n",
       "      <td>91894</td>\n",
       "      <td>844424933640374-220-m.wav</td>\n",
       "      <td>ਫੌਜ|ਦਾ|ਕਰੀਅਰ|ਅਤੇ|ਫੌਜ|ਵਿੱਚ|ਰਹਿਣ|ਲਈ|ਕਾਨੂੰਨੀ|ਲੜਾਈ</td>\n",
       "    </tr>\n",
       "  </tbody>\n",
       "</table>\n",
       "<p>2686 rows × 3 columns</p>\n",
       "</div>"
      ],
      "text/plain": [
       "       Unnamed: 0                        file  \\\n",
       "5            5126  844424933061065-1200-f.wav   \n",
       "43           5164   844424932719276-496-f.wav   \n",
       "48           5169   844424933057478-704-f.wav   \n",
       "84           5205  844424931500820-1200-f.wav   \n",
       "141          5262   844424931282882-664-f.wav   \n",
       "...           ...                         ...   \n",
       "86752       91873   844424933650549-601-m.wav   \n",
       "86755       91876     844424933610704-1-m.wav   \n",
       "86758       91879   844424933633726-601-m.wav   \n",
       "86772       91893   844424933647743-601-m.wav   \n",
       "86773       91894   844424933640374-220-m.wav   \n",
       "\n",
       "                                              transcript  \n",
       "5      ਮਾਪਿਆਂ|ਜਾਂ|ਦੇਖਭਾਲ|ਕਰਨ|ਵਾਲਿਆਂ|ਦੀ|ਰਿਪੋਰਟ|ਤਿਆਰ|ਕਰ...  \n",
       "43     ਧੱਬੇ|ਨੂੰ|ਹਟਾਉਣ|ਦੀ|ਗੁੰਝਲਤਾ|ਨੂੰ|ਉਹ|ਪ੍ਰਾਪਤ|ਕੀਤਾ|ਗ...  \n",
       "48               ਇਸ|ਮਾਮਲੇ|ਤੇ|ਪੁਲਿਸ|ਪੂਰੀ|ਕਾਰਵਾਈ|ਕਰ|ਰਹੀ|ਹੈ  \n",
       "84     ਇਕ|ਕੁੜੀ|ਹੈ|ਜੋ|ਤਬਦੀਲ|ਨਾ|ਕਰੇਗਾ|ਦਾ|ਪਤਾ|ਕਰਨ|ਲਈ|ਕਰਨ...  \n",
       "141    ਇਹ|ਵਿਕਲਪਿਕ|ਚੀਜ਼|ਵੱਡੇ|ਪਰਿਵਾਰਾਂ|ਅਤੇ|ਸਮੂਹਾਂ|ਦੇ|ਲਈ...  \n",
       "...                                                  ...  \n",
       "86752  ਮੁਨਰੋ|ਇਸਦੇ|ਬੁਨਿਆਦ|ਰੱਖਣ|ਦੇ|ਸਮੇਂ|ਸੰਯੁਕਤ|ਰਾਜ|ਅਮਰੀ...  \n",
       "86755  ਨਿਊਜ਼|ਚੈਨਲ|ਨੇ|ਨਵੇਂ|ਟਰਾਂਸਜੈਂਡਰ|ਐਂਕਰਾਂ|ਨੂੰ|ਕੰਮ|ਲ...  \n",
       "86758              ਭਾਵੇਂ|ਉਸ|ਲੋੜ|ਦੀ|ਹੋਂਦ|ਹੋਵੇ|ਜਾਂ|ਨਾ|ਹੋਵੇ  \n",
       "86772  ਲੋਕਧਾਰਾ|ਅਧਿਐਨ|ਦੀਆਂ|ਨਵੀਆਂ|ਤਕਨੀਕਾਂ|ਪ੍ਰਾਪਤੀਆਂ|ਤੇ|...  \n",
       "86773     ਫੌਜ|ਦਾ|ਕਰੀਅਰ|ਅਤੇ|ਫੌਜ|ਵਿੱਚ|ਰਹਿਣ|ਲਈ|ਕਾਨੂੰਨੀ|ਲੜਾਈ  \n",
       "\n",
       "[2686 rows x 3 columns]"
      ]
     },
     "execution_count": 15,
     "metadata": {},
     "output_type": "execute_result"
    }
   ],
   "source": [
    "transcriptions = pd.read_csv(\"/workspace/data/IndicSUPERB_punjabi_transcriptions.tsv\", sep=\"\\t\")\n",
    "\n",
    "transcriptions = transcriptions[ transcriptions.file.isin(supervised_all.path) ]\n",
    "\n",
    "transcriptions.transcript = transcriptions.transcript.str.replace(\" \", \"|\")\n",
    "\n",
    "transcriptions"
   ]
  },
  {
   "cell_type": "code",
   "execution_count": 16,
   "id": "0113d6b0",
   "metadata": {},
   "outputs": [],
   "source": [
    "from collections import Counter\n",
    "from tqdm.contrib.concurrent import process_map\n",
    "\n",
    "def get_vocab(texts_list):\n",
    "    \n",
    "    def sum_counters(counter_list):\n",
    "        if len(counter_list) > 10:\n",
    "            counter_0 = sum_counters(counter_list[:int(len(counter_list)/2)])\n",
    "            counter_1 = sum_counters(counter_list[int(len(counter_list)/2):])\n",
    "            return sum([counter_0, counter_1], Counter())\n",
    "        else:\n",
    "            return sum(counter_list, Counter())\n",
    "    \n",
    "    char_counts = process_map(Counter, texts_list, chunksize=1000)\n",
    "    char_aggs = sum_counters(char_counts)\n",
    "    \n",
    "    return char_aggs"
   ]
  },
  {
   "cell_type": "code",
   "execution_count": 17,
   "id": "728ad471",
   "metadata": {},
   "outputs": [
    {
     "name": "stderr",
     "output_type": "stream",
     "text": [
      "100%|████████████████████████████████████████████████████████████████████████████████████████████████████████████████████████████████████████████████████████████████████| 2686/2686 [00:00<00:00, 75882.53it/s]\n"
     ]
    }
   ],
   "source": [
    "ltr_counts = get_vocab(transcriptions.transcript)"
   ]
  },
  {
   "cell_type": "code",
   "execution_count": 18,
   "id": "5f609329",
   "metadata": {},
   "outputs": [],
   "source": [
    "finetune_data_out = Path(\"data/manifests/finetune_punjabi-1h/\")\n",
    "\n",
    "dict_ltr_file = finetune_data_out / \"dict.ltr.txt\"\n",
    "\n",
    "with open(dict_ltr_file, 'w') as f:\n",
    "    f.writelines([ f\"{ltr} {count}\\n\" for (ltr, count) in ltr_counts.most_common() ])"
   ]
  },
  {
   "cell_type": "code",
   "execution_count": 19,
   "id": "30439849",
   "metadata": {},
   "outputs": [],
   "source": [
    "finetune_data_dict = {\n",
    "    'train-1h': pa_finetune_1h,\n",
    "    'valid-1h': pa_valid_1h,\n",
    "    'test-2h': pa_test_2h\n",
    "}\n",
    "\n",
    "for split, split_files in finetune_data_dict.items():\n",
    "\n",
    "    data = split_files.rename(columns={'path':'file'}).merge(transcriptions)\n",
    "    \n",
    "    ltr_file = finetune_data_out / f\"{split}.ltr\"\n",
    "    \n",
    "    with open(ltr_file, 'w') as f:\n",
    "        f.writelines([ \"|\" + \" \".join(t) + \"|\\n\" for t in data.transcript.str.split(\"\") ])\n",
    "\n",
    "    wrd_file = finetune_data_out / f\"{split}.wrd\"\n",
    "\n",
    "    with open(wrd_file, 'w') as f:\n",
    "        f.writelines(\"\\n\".join(data.transcript.str.replace(\"|\", \" \", regex=False)) + \"\\n\")\n",
    "\n",
    "    tsv_file = finetune_data_out / f\"{split}.tsv\"\n",
    "\n",
    "    with open(tsv_file, 'w') as f:\n",
    "        f.write(\"/workspace/data/IndicSUPERB/punjabi/audio\\n\")\n",
    "        f.writelines([ f\"{file}\\t{n_frames}\\n\" for (file, n_frames) in zip(data.file, data.num_frames) ])"
   ]
  },
  {
   "cell_type": "markdown",
   "id": "65cd3bb2",
   "metadata": {},
   "source": [
    "## Transfer languages"
   ]
  },
  {
   "cell_type": "markdown",
   "id": "76c24e5f",
   "metadata": {},
   "source": [
    "### Hindi"
   ]
  },
  {
   "cell_type": "code",
   "execution_count": 23,
   "id": "2431d8bc",
   "metadata": {},
   "outputs": [
    {
     "data": {
      "text/html": [
       "<div>\n",
       "<style scoped>\n",
       "    .dataframe tbody tr th:only-of-type {\n",
       "        vertical-align: middle;\n",
       "    }\n",
       "\n",
       "    .dataframe tbody tr th {\n",
       "        vertical-align: top;\n",
       "    }\n",
       "\n",
       "    .dataframe thead th {\n",
       "        text-align: right;\n",
       "    }\n",
       "</style>\n",
       "<table border=\"1\" class=\"dataframe\">\n",
       "  <thead>\n",
       "    <tr style=\"text-align: right;\">\n",
       "      <th></th>\n",
       "      <th>path</th>\n",
       "      <th>num_frames</th>\n",
       "    </tr>\n",
       "  </thead>\n",
       "  <tbody>\n",
       "    <tr>\n",
       "      <th>0</th>\n",
       "      <td>844424930324966-261-f.wav</td>\n",
       "      <td>97710</td>\n",
       "    </tr>\n",
       "    <tr>\n",
       "      <th>1</th>\n",
       "      <td>844424930324970-261-f.wav</td>\n",
       "      <td>82106</td>\n",
       "    </tr>\n",
       "    <tr>\n",
       "      <th>2</th>\n",
       "      <td>844424930324972-261-f.wav</td>\n",
       "      <td>60929</td>\n",
       "    </tr>\n",
       "    <tr>\n",
       "      <th>3</th>\n",
       "      <td>844424930324975-261-f.wav</td>\n",
       "      <td>68731</td>\n",
       "    </tr>\n",
       "    <tr>\n",
       "      <th>4</th>\n",
       "      <td>844424930324976-261-f.wav</td>\n",
       "      <td>112571</td>\n",
       "    </tr>\n",
       "    <tr>\n",
       "      <th>...</th>\n",
       "      <td>...</td>\n",
       "      <td>...</td>\n",
       "    </tr>\n",
       "    <tr>\n",
       "      <th>96248</th>\n",
       "      <td>844424933583343-256-m.wav</td>\n",
       "      <td>76162</td>\n",
       "    </tr>\n",
       "    <tr>\n",
       "      <th>96249</th>\n",
       "      <td>844424933583344-256-m.wav</td>\n",
       "      <td>43096</td>\n",
       "    </tr>\n",
       "    <tr>\n",
       "      <th>96250</th>\n",
       "      <td>844424933583345-256-m.wav</td>\n",
       "      <td>62787</td>\n",
       "    </tr>\n",
       "    <tr>\n",
       "      <th>96251</th>\n",
       "      <td>844424933583346-256-m.wav</td>\n",
       "      <td>74676</td>\n",
       "    </tr>\n",
       "    <tr>\n",
       "      <th>96252</th>\n",
       "      <td>844424933583347-256-m.wav</td>\n",
       "      <td>65388</td>\n",
       "    </tr>\n",
       "  </tbody>\n",
       "</table>\n",
       "<p>96253 rows × 2 columns</p>\n",
       "</div>"
      ],
      "text/plain": [
       "                            path  num_frames\n",
       "0      844424930324966-261-f.wav       97710\n",
       "1      844424930324970-261-f.wav       82106\n",
       "2      844424930324972-261-f.wav       60929\n",
       "3      844424930324975-261-f.wav       68731\n",
       "4      844424930324976-261-f.wav      112571\n",
       "...                          ...         ...\n",
       "96248  844424933583343-256-m.wav       76162\n",
       "96249  844424933583344-256-m.wav       43096\n",
       "96250  844424933583345-256-m.wav       62787\n",
       "96251  844424933583346-256-m.wav       74676\n",
       "96252  844424933583347-256-m.wav       65388\n",
       "\n",
       "[96253 rows x 2 columns]"
      ]
     },
     "execution_count": 23,
     "metadata": {},
     "output_type": "execute_result"
    }
   ],
   "source": [
    "hi_dir = isb_dir / \"hindi\"\n",
    "\n",
    "hi_audio_df = pd.DataFrame({\n",
    "    'path' : sorted(hi_dir.glob(\"audio/*.wav\"))\n",
    "})\n",
    "\n",
    "hi_audio_df['num_frames'] = hi_audio_df.path.apply(lambda p: torchaudio.info(p).num_frames)\n",
    "\n",
    "hi_audio_df['path'] = hi_audio_df['path'].apply(lambda p: str(p.name))\n",
    "\n",
    "hi_audio_df"
   ]
  },
  {
   "cell_type": "markdown",
   "id": "520d4ab6",
   "metadata": {},
   "source": [
    "#### Select 3 different subsets of Hindi data"
   ]
  },
  {
   "cell_type": "code",
   "execution_count": 27,
   "id": "f0515e39",
   "metadata": {},
   "outputs": [],
   "source": [
    "for SEED in [1, 2, 3]:\n",
    "    hi_sample_df = hi_audio_df \\\n",
    "        .sample(frac=1.0, random_state=SEED) \\\n",
    "        .query(\"num_frames.cumsum() <= (16_000 * 60 * 60 * 60)\")\n",
    "    \n",
    "    tsv_name = f\"hindi_train-60h-seed-{SEED}\"\n",
    "    manifest_tsv = data_out / (tsv_name + \".tsv\")\n",
    "\n",
    "    with open(manifest_tsv, 'w') as f:\n",
    "        f.write(\"/workspace/data/IndicSUPERB/hindi/audio\\n\")\n",
    "\n",
    "    hi_sample_df.to_csv(manifest_tsv, sep=\"\\t\", index=False, header=False, mode='a')"
   ]
  },
  {
   "cell_type": "code",
   "execution_count": null,
   "id": "93790419",
   "metadata": {},
   "outputs": [],
   "source": []
  }
 ],
 "metadata": {
  "kernelspec": {
   "display_name": "Python 3 (ipykernel)",
   "language": "python",
   "name": "python3"
  },
  "language_info": {
   "codemirror_mode": {
    "name": "ipython",
    "version": 3
   },
   "file_extension": ".py",
   "mimetype": "text/x-python",
   "name": "python",
   "nbconvert_exporter": "python",
   "pygments_lexer": "ipython3",
   "version": "3.8.13"
  }
 },
 "nbformat": 4,
 "nbformat_minor": 5
}
